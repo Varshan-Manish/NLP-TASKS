{
 "cells": [
  {
   "cell_type": "markdown",
   "id": "11aa8952",
   "metadata": {},
   "source": [
    "**Gender Classification**"
   ]
  },
  {
   "cell_type": "code",
   "execution_count": 2,
   "id": "c73803cb",
   "metadata": {},
   "outputs": [],
   "source": [
    "from nltk.corpus import names"
   ]
  },
  {
   "cell_type": "code",
   "execution_count": 7,
   "id": "4156576c",
   "metadata": {},
   "outputs": [
    {
     "data": {
      "text/plain": [
       "['Abagail',\n",
       " 'Ambur',\n",
       " 'Aubrie',\n",
       " 'Blondell',\n",
       " 'Carree',\n",
       " 'Clareta',\n",
       " 'Danna',\n",
       " 'Dore',\n",
       " 'Emilia',\n",
       " 'Flore',\n",
       " 'Glorianna',\n",
       " 'Ida',\n",
       " 'Jenni',\n",
       " 'Kamillah',\n",
       " 'Klarika',\n",
       " 'Lilia',\n",
       " 'Madella',\n",
       " 'Maryangelyn',\n",
       " 'Mirna',\n",
       " 'Nollie',\n",
       " 'Prisca',\n",
       " 'Rosanna',\n",
       " 'Sheilah',\n",
       " 'Tammie',\n",
       " 'Valerie',\n",
       " 'Aamir',\n",
       " 'Austin',\n",
       " 'Carlin',\n",
       " 'Dean',\n",
       " 'Ethelred',\n",
       " 'Giovanni',\n",
       " 'Howard',\n",
       " 'Judith',\n",
       " 'Maddy',\n",
       " 'Nathan',\n",
       " 'Pincas',\n",
       " 'Ronny',\n",
       " 'Sloan',\n",
       " 'Tom',\n",
       " 'Werner']"
      ]
     },
     "execution_count": 7,
     "metadata": {},
     "output_type": "execute_result"
    }
   ],
   "source": [
    "names.words()[1::200]"
   ]
  },
  {
   "cell_type": "code",
   "execution_count": 11,
   "id": "b9c92331",
   "metadata": {},
   "outputs": [],
   "source": [
    "labeled_names = [(name, 'male') for name in names.words('male.txt')] + \\\n",
    "                [(name, 'female') for name in names.words('female.txt')]"
   ]
  },
  {
   "cell_type": "code",
   "execution_count": 12,
   "id": "4eab88e9",
   "metadata": {},
   "outputs": [],
   "source": [
    "import random\n",
    "random.shuffle(labeled_names)"
   ]
  },
  {
   "cell_type": "code",
   "execution_count": 14,
   "id": "9ab0a30c",
   "metadata": {},
   "outputs": [],
   "source": [
    "def gender_features(word):\n",
    "    return {'last_letter': word[-1]}"
   ]
  },
  {
   "cell_type": "code",
   "execution_count": 15,
   "id": "92af5cb2",
   "metadata": {},
   "outputs": [],
   "source": [
    "featuresets = [(gender_features(n), gender) for (n,gender) in labeled_names]"
   ]
  },
  {
   "cell_type": "code",
   "execution_count": 16,
   "id": "74c4994b",
   "metadata": {},
   "outputs": [],
   "source": [
    "train_set, test_set = featuresets[5000:], featuresets[:2000]"
   ]
  },
  {
   "cell_type": "code",
   "execution_count": 17,
   "id": "cee84275",
   "metadata": {},
   "outputs": [],
   "source": [
    "import nltk \n",
    "classifier = nltk.NaiveBayesClassifier.train(train_set)"
   ]
  },
  {
   "cell_type": "code",
   "execution_count": 23,
   "id": "3ce9fdbe",
   "metadata": {},
   "outputs": [
    {
     "data": {
      "text/plain": [
       "'male'"
      ]
     },
     "execution_count": 23,
     "metadata": {},
     "output_type": "execute_result"
    }
   ],
   "source": [
    "classifier.classify(gender_features('Angelo'))"
   ]
  },
  {
   "cell_type": "code",
   "execution_count": 19,
   "id": "bc56bf1b",
   "metadata": {},
   "outputs": [
    {
     "data": {
      "text/plain": [
       "'female'"
      ]
     },
     "execution_count": 19,
     "metadata": {},
     "output_type": "execute_result"
    }
   ],
   "source": [
    "classifier.classify(gender_features('Zoey'))"
   ]
  },
  {
   "cell_type": "code",
   "execution_count": 24,
   "id": "db3022e6",
   "metadata": {},
   "outputs": [
    {
     "name": "stdout",
     "output_type": "stream",
     "text": [
      "0.749\n"
     ]
    }
   ],
   "source": [
    "print(nltk.classify.accuracy(classifier,test_set))"
   ]
  }
 ],
 "metadata": {
  "kernelspec": {
   "display_name": "Python 3",
   "language": "python",
   "name": "python3"
  },
  "language_info": {
   "codemirror_mode": {
    "name": "ipython",
    "version": 3
   },
   "file_extension": ".py",
   "mimetype": "text/x-python",
   "name": "python",
   "nbconvert_exporter": "python",
   "pygments_lexer": "ipython3",
   "version": "3.6.8"
  }
 },
 "nbformat": 4,
 "nbformat_minor": 5
}
