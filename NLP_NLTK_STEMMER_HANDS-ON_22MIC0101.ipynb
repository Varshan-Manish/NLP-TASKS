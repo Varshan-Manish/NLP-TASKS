{
 "cells": [
  {
   "cell_type": "markdown",
   "id": "85a1189a",
   "metadata": {},
   "source": [
    "**Porter Stemmer**"
   ]
  },
  {
   "cell_type": "code",
   "execution_count": 1,
   "id": "c7685158",
   "metadata": {},
   "outputs": [
    {
     "data": {
      "text/plain": [
       "'happi'"
      ]
     },
     "execution_count": 1,
     "metadata": {},
     "output_type": "execute_result"
    }
   ],
   "source": [
    "from nltk.stem import PorterStemmer \n",
    "stemmerporter = PorterStemmer() \n",
    "stemmerporter.stem('happiness')"
   ]
  },
  {
   "cell_type": "code",
   "execution_count": 3,
   "id": "51fd9315",
   "metadata": {},
   "outputs": [
    {
     "data": {
      "text/plain": [
       "'kindli'"
      ]
     },
     "execution_count": 3,
     "metadata": {},
     "output_type": "execute_result"
    }
   ],
   "source": [
    "from nltk.stem import PorterStemmer \n",
    "stemmerporter = PorterStemmer() \n",
    "stemmerporter.stem('kindliness')"
   ]
  },
  {
   "cell_type": "code",
   "execution_count": 4,
   "id": "bfd29963",
   "metadata": {},
   "outputs": [
    {
     "data": {
      "text/plain": [
       "'wilder'"
      ]
     },
     "execution_count": 4,
     "metadata": {},
     "output_type": "execute_result"
    }
   ],
   "source": [
    "from nltk.stem import PorterStemmer \n",
    "stemmerporter = PorterStemmer() \n",
    "stemmerporter.stem('wilderness')"
   ]
  },
  {
   "cell_type": "markdown",
   "id": "b9f8a86b",
   "metadata": {},
   "source": [
    "**Lancaster Stemmer**"
   ]
  },
  {
   "cell_type": "code",
   "execution_count": 5,
   "id": "71af7e54",
   "metadata": {},
   "outputs": [
    {
     "data": {
      "text/plain": [
       "'happy'"
      ]
     },
     "execution_count": 5,
     "metadata": {},
     "output_type": "execute_result"
    }
   ],
   "source": [
    "from nltk.stem import LancasterStemmer \n",
    "stemmerporter = LancasterStemmer() \n",
    "stemmerporter.stem('happiness')"
   ]
  },
  {
   "cell_type": "code",
   "execution_count": 6,
   "id": "b354b338",
   "metadata": {},
   "outputs": [
    {
     "data": {
      "text/plain": [
       "'kind'"
      ]
     },
     "execution_count": 6,
     "metadata": {},
     "output_type": "execute_result"
    }
   ],
   "source": [
    "from nltk.stem import LancasterStemmer \n",
    "stemmerporter = LancasterStemmer() \n",
    "stemmerporter.stem('kindliness')"
   ]
  },
  {
   "cell_type": "code",
   "execution_count": 7,
   "id": "8d7e56de",
   "metadata": {},
   "outputs": [
    {
     "data": {
      "text/plain": [
       "'wild'"
      ]
     },
     "execution_count": 7,
     "metadata": {},
     "output_type": "execute_result"
    }
   ],
   "source": [
    "from nltk.stem import LancasterStemmer \n",
    "stemmerporter = LancasterStemmer() \n",
    "stemmerporter.stem('wilderness')"
   ]
  },
  {
   "cell_type": "markdown",
   "id": "4a8dc2d9",
   "metadata": {},
   "source": [
    "**Regular Expression Stemmer**"
   ]
  },
  {
   "cell_type": "code",
   "execution_count": 8,
   "id": "506a75b8",
   "metadata": {},
   "outputs": [
    {
     "data": {
      "text/plain": [
       "'happiness'"
      ]
     },
     "execution_count": 8,
     "metadata": {},
     "output_type": "execute_result"
    }
   ],
   "source": [
    "from nltk.stem import RegexpStemmer \n",
    "stemmerregexp = RegexpStemmer('ing') \n",
    "stemmerregexp.stem('happiness')"
   ]
  },
  {
   "cell_type": "code",
   "execution_count": 9,
   "id": "f4c6de06",
   "metadata": {},
   "outputs": [
    {
     "data": {
      "text/plain": [
       "'happi'"
      ]
     },
     "execution_count": 9,
     "metadata": {},
     "output_type": "execute_result"
    }
   ],
   "source": [
    "from nltk.stem import RegexpStemmer \n",
    "stemmerregexp = RegexpStemmer('ness') \n",
    "stemmerregexp.stem('happiness')"
   ]
  },
  {
   "cell_type": "markdown",
   "id": "ac4edda5",
   "metadata": {},
   "source": [
    "**Snowball Stemmer**"
   ]
  },
  {
   "cell_type": "code",
   "execution_count": 10,
   "id": "07b1af52",
   "metadata": {},
   "outputs": [
    {
     "data": {
      "text/plain": [
       "'fill'"
      ]
     },
     "execution_count": 10,
     "metadata": {},
     "output_type": "execute_result"
    }
   ],
   "source": [
    "from nltk.stem import SnowballStemmer \n",
    "SnowballStemmer.languages\n",
    "frenchStemmer = SnowballStemmer('french') \n",
    "frenchStemmer.stem('fille')"
   ]
  },
  {
   "cell_type": "code",
   "execution_count": 12,
   "id": "e27aadc6",
   "metadata": {},
   "outputs": [
    {
     "data": {
      "text/plain": [
       "'mangeon'"
      ]
     },
     "execution_count": 12,
     "metadata": {},
     "output_type": "execute_result"
    }
   ],
   "source": [
    "from nltk.stem import SnowballStemmer \n",
    "SnowballStemmer.languages\n",
    "frenchStemmer = SnowballStemmer('french') \n",
    "frenchStemmer.stem('mangeons')"
   ]
  },
  {
   "cell_type": "markdown",
   "id": "1763a8be",
   "metadata": {},
   "source": [
    "**Vectorization**"
   ]
  },
  {
   "cell_type": "code",
   "execution_count": 13,
   "id": "c6ecda95",
   "metadata": {},
   "outputs": [
    {
     "data": {
      "text/plain": [
       "CountVectorizer(binary=True)"
      ]
     },
     "execution_count": 13,
     "metadata": {},
     "output_type": "execute_result"
    }
   ],
   "source": [
    "from sklearn.feature_extraction.text import CountVectorizer\n",
    "vect = CountVectorizer(binary = True)\n",
    "corpus = [\"Tessaract is good optical character recognition engine\", \"optical character recognition is significant\"]\n",
    "vect.fit(corpus)\n"
   ]
  },
  {
   "cell_type": "code",
   "execution_count": 14,
   "id": "bc053853",
   "metadata": {},
   "outputs": [
    {
     "name": "stdout",
     "output_type": "stream",
     "text": [
      "character:0\n",
      "engine:1\n",
      "good:2\n",
      "is:3\n",
      "optical:4\n",
      "recognition:5\n",
      "significant:6\n",
      "tessaract:7\n"
     ]
    }
   ],
   "source": [
    "vocab = vect.vocabulary_\n",
    "for key in sorted(vocab.keys()):\n",
    "    print(\"{}:{}\".format(key , vocab[key]))"
   ]
  },
  {
   "cell_type": "code",
   "execution_count": 15,
   "id": "7ff5a2d0",
   "metadata": {},
   "outputs": [
    {
     "name": "stdout",
     "output_type": "stream",
     "text": [
      "[[0 0 1 1 1 0 0 0]]\n"
     ]
    }
   ],
   "source": [
    "print(vect.transform([\"This is a good optical illusion. It is a good one\"]).toarray())"
   ]
  },
  {
   "cell_type": "code",
   "execution_count": 16,
   "id": "e692a1d9",
   "metadata": {},
   "outputs": [
    {
     "name": "stdout",
     "output_type": "stream",
     "text": [
      "0.8944271909999159\n"
     ]
    }
   ],
   "source": [
    "from sklearn.metrics.pairwise import cosine_similarity\n",
    "similarity = cosine_similarity(vect.transform([\"Google Cloud Vision is a character recognition engine\"]).toarray(),\n",
    "                               vect.transform([\"OCR is an optical Character Recognition engine\"]).toarray())\n",
    "print(similarity[0][0])"
   ]
  }
 ],
 "metadata": {
  "kernelspec": {
   "display_name": "Python 3",
   "language": "python",
   "name": "python3"
  },
  "language_info": {
   "codemirror_mode": {
    "name": "ipython",
    "version": 3
   },
   "file_extension": ".py",
   "mimetype": "text/x-python",
   "name": "python",
   "nbconvert_exporter": "python",
   "pygments_lexer": "ipython3",
   "version": "3.6.8"
  }
 },
 "nbformat": 4,
 "nbformat_minor": 5
}
