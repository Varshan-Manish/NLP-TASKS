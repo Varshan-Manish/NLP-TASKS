{
 "cells": [
  {
   "cell_type": "markdown",
   "id": "7fbd3884",
   "metadata": {},
   "source": [
    "**Magnum Opus Task**\n",
    "Finding Cosine Similarity Between Two Documents"
   ]
  },
  {
   "cell_type": "code",
   "execution_count": 3,
   "id": "e73b1593",
   "metadata": {},
   "outputs": [],
   "source": [
    "import nltk\n",
    "import string\n",
    "from nltk.corpus import inaugural, stopwords\n",
    "from nltk.tokenize import word_tokenize\n",
    "from collections import Counter\n",
    "import math\n",
    "import matplotlib.pyplot as plt"
   ]
  },
  {
   "cell_type": "code",
   "execution_count": 4,
   "id": "4511ce33",
   "metadata": {},
   "outputs": [],
   "source": [
    "def preprocess(text):\n",
    "    stop_words = set(stopwords.words('english'))\n",
    "    tokens = word_tokenize(text.lower())\n",
    "    return [\n",
    "        token for token in tokens \n",
    "        if token.isalnum() and token not in stop_words and token not in string.punctuation\n",
    "]"
   ]
  },
  {
   "cell_type": "code",
   "execution_count": 5,
   "id": "e3c615f2",
   "metadata": {},
   "outputs": [],
   "source": [
    "def document_cosine_similarity(tokens1, tokens2):\n",
    "    freq1 = Counter(tokens1)\n",
    "    freq2 = Counter(tokens2)\n",
    "    all_words = set(freq1).union(set(freq2))\n",
    "    vec1 = [freq1.get(word, 0) for word in all_words]\n",
    "    vec2 = [freq2.get(word, 0) for word in all_words]\n",
    "    dot_product = sum(a * b for a, b in zip(vec1, vec2))\n",
    "    mag1 = math.sqrt(sum(a * a for a in vec1))\n",
    "    mag2 = math.sqrt(sum(b * b for b in vec2))\n",
    "    if mag1 == 0 or mag2 == 0:\n",
    "        return 0.0\n",
    "    return dot_product / (mag1 * mag2)\n",
    "\n"
   ]
  },
  {
   "cell_type": "code",
   "execution_count": 8,
   "id": "e53dbf00",
   "metadata": {},
   "outputs": [
    {
     "name": "stdout",
     "output_type": "stream",
     "text": [
      "Obama 2009 Speech (first 500 characters):\n",
      " My fellow citizens:\n",
      "\n",
      "I stand here today humbled by the task before us, grateful for the trust you have bestowed, mindful of the sacrifices borne by our ancestors. I thank President Bush for his service to our nation, as well as the generosity and cooperation he has shown throughout this transition.\n",
      "\n",
      "Forty-four Americans have now taken the presidential oath. The words have been spoken during rising tides of prosperity and the still waters of peace. Yet, every so often the oath is taken amidst gat \n",
      "\n",
      "Trump 2017 Speech (first 500 characters):\n",
      " Chief Justice Roberts, President Carter, President Clinton, President Bush, President Obama, fellow Americans, and people of the world: Thank you.\n",
      "\n",
      "We, the citizens of America, are now joined in a great national effort to rebuild our country and restore its promise for all of our people. Together, we will determine the course of America and the world for many, many years to come. We will face challenges, we will confront hardships, but we will get the job done.\n",
      "\n",
      "Every 4 years, we gather on these \n",
      "\n"
     ]
    }
   ],
   "source": [
    "obama_text = inaugural.raw('2009-Obama.txt')\n",
    "trump_text = inaugural.raw('2017-Trump.txt')\n",
    "obama_tokens = preprocess(obama_text)\n",
    "trump_tokens = preprocess(trump_text)\n",
    "print(\"Obama 2009 Speech (first 500 characters):\\n\", obama_text[:500], \"\\n\")\n",
    "print(\"Trump 2017 Speech (first 500 characters):\\n\", trump_text[:500], \"\\n\")"
   ]
  },
  {
   "cell_type": "code",
   "execution_count": 9,
   "id": "e372cc08",
   "metadata": {},
   "outputs": [
    {
     "name": "stdout",
     "output_type": "stream",
     "text": [
      "Cosine similarity: 0.4687\n",
      "\n"
     ]
    }
   ],
   "source": [
    "similarity = document_cosine_similarity(obama_tokens, trump_tokens)\n",
    "print(f\"Cosine similarity: {similarity:.4f}\\n\")"
   ]
  },
  {
   "cell_type": "code",
   "execution_count": 10,
   "id": "09212b27",
   "metadata": {},
   "outputs": [],
   "source": [
    "obama_freq = Counter(obama_tokens)\n",
    "trump_freq = Counter(trump_tokens)\n",
    "common_words = set(obama_freq.keys()).intersection(set(trump_freq.keys()))\n",
    "top_common_words = sorted(common_words, key=lambda x: obama_freq[x] + trump_freq[x], reverse=True)[:15]\n",
    "obama_counts = [obama_freq[word] for word in top_common_words]\n",
    "trump_counts = [trump_freq[word] for word in top_common_words]\n"
   ]
  },
  {
   "cell_type": "code",
   "execution_count": 11,
   "id": "0ab3b3e8",
   "metadata": {},
   "outputs": [
    {
     "data": {
      "image/png": "[encoded data removed]",
      "text/plain": [
       "<Figure size 1008x504 with 1 Axes>"
      ]
     },
     "metadata": {
      "needs_background": "light"
     },
     "output_type": "display_data"
    }
   ],
   "source": [
    "x = range(len(top_common_words))\n",
    "plt.figure(figsize=(14, 7))\n",
    "plt.bar(x, obama_counts, width=0.4, label='Obama 2009', align='center')\n",
    "plt.bar([i + 0.4 for i in x], trump_counts, width=0.4, label='Trump 2017', align='center')\n",
    "plt.xticks([i + 0.2 for i in x], top_common_words, rotation=45)\n",
    "plt.title(\"Top 15 Shared Words in Obama 2009 vs Trump 2017\")\n",
    "plt.xlabel(\"Words\")\n",
    "plt.ylabel(\"Frequency\")\n",
    "plt.legend()\n",
    "plt.tight_layout()\n",
    "plt.show()"
   ]
  }
 ],
 "metadata": {
  "kernelspec": {
   "display_name": "Python 3",
   "language": "python",
   "name": "python3"
  },
  "language_info": {
   "codemirror_mode": {
    "name": "ipython",
    "version": 3
   },
   "file_extension": ".py",
   "mimetype": "text/x-python",
   "name": "python",
   "nbconvert_exporter": "python",
   "pygments_lexer": "ipython3",
   "version": "3.6.8"
  }
 },
 "nbformat": 4,
 "nbformat_minor": 5
}
